{
 "nbformat": 4,
 "nbformat_minor": 0,
 "metadata": {
  "colab": {
   "name": "FeatureExtraction.ipynb",
   "version": "0.3.2",
   "provenance": [],
   "collapsed_sections": []
  },
  "kernelspec": {
   "name": "python3",
   "language": "python",
   "display_name": "Python 3"
  }
 },
 "cells": [
  {
   "cell_type": "code",
   "metadata": {
    "id": "0EHHune767p5",
    "colab_type": "code",
    "colab": {},
    "pycharm": {
     "is_executing": true
    }
   },
   "source": [
    "import cv2\n",
    "import numpy as np\n",
    "import pandas as pd\n",
    "import re\n",
    "import math\n",
    "from skimage import feature\n",
    "from skimage.feature import hog\n",
    "from imutils import paths\n",
    "from google.colab.patches import cv2_imshow\n",
    "import os\n",
    "\n",
    "from keras.preprocessing import image\n",
    "from keras.applications.inception_v3 import InceptionV3, preprocess_input\n",
    "from keras.applications.xception import Xception\n",
    "from keras.models import Model\n",
    "from keras.layers import Input\n",
    "\n",
    "# Load Inception_v3 pretrained on ImageNet dataset\n",
    "#model = InceptionV3(include_top=False, weights='imagenet', pooling='avg', input_tensor=Input(shape=(299,299,3)))\n",
    "model = Xception(include_top=False, weights='imagenet', pooling='avg')\n",
    "\n",
    "# List of paths \n",
    "file_list=[]\n",
    "file_list.append(os.listdir(r\"/content/drive/My Drive/Base/humanos\"))\n",
    "file_list.append(os.listdir(r\"/content/drive/My Drive/Base/praia\"))\n",
    "file_list.append(os.listdir(r\"/content/drive/My Drive/Base/obras\"))\n",
    "file_list.append(os.listdir(r\"/content/drive/My Drive/Base/onibus\"))\n",
    "file_list.append(os.listdir(r\"/content/drive/My Drive/Base/dino\"))\n",
    "file_list.append(os.listdir(r\"/content/drive/My Drive/Base/elefante\"))\n",
    "file_list.append(os.listdir(r\"/content/drive/My Drive/Base/flores\"))\n",
    "file_list.append(os.listdir(r\"/content/drive/My Drive/Base/cavalos\"))\n",
    "file_list.append(os.listdir(r\"/content/drive/My Drive/Base/montanhas\"))\n",
    "file_list.append(os.listdir(r\"/content/drive/My Drive/Base/comida\"))\n",
    "\n",
    "# general path\n",
    "path='/content/drive/My Drive/Base/'\n",
    "\n",
    "# list of classes\n",
    "class_names=['humanos', 'praia', 'obras', 'onibus', 'dino', 'elefante', 'flores', 'cavalos', 'montanhas', 'comida'] \n",
    "\n",
    "X = []\n",
    "X_deep = []\n",
    "y = []\n",
    "\n",
    "# Feature extraction\n",
    "for classes_files, classe in zip (file_list, range(10)):\n",
    "    for i in range(100):\n",
    "      name= str(path) + str(class_names[classe]) + str('/') + str(classes_files[i]) \n",
    "      imagem = cv2.imread(name)\n",
    "      print(imagem.shape)\n",
    "      altura, largura, _ = imagem.shape\n",
    "    \n",
    "# Convert the image to RGB and Gray    \n",
    "      cinza = cv2.cvtColor(imagem, cv2.COLOR_BGR2GRAY)\n",
    "      rgb   = cv2.cvtColor(imagem, cv2.COLOR_BGR2RGB)\n",
    "\n",
    "# Color Histograms\n",
    "      r_histograma = cv2.calcHist([rgb], [0], None, [256], [0, 256])/(altura*largura)\n",
    "      g_histograma = cv2.calcHist([rgb], [1], None, [256], [0, 256])/(altura*largura)\n",
    "      b_histograma = cv2.calcHist([rgb], [2], None, [256], [0, 256])/(altura*largura)\n",
    "\n",
    "# Local Binary Pattern (LBP)\n",
    "      lbp = feature.local_binary_pattern(cinza, 59, 1, method=\"uniform\")\n",
    "      (lbp_histograma, _) = np.histogram(lbp.ravel(), bins=59, range=(0, 59))\n",
    "      lbp_histograma = lbp_histograma.astype(\"float\")\n",
    "      lbp_histograma /= (lbp_histograma.sum())\n",
    "    \n",
    "# Hog (Hostogram of Gradient - Direction)\n",
    "      hg = hog(cinza, orientations=8, pixels_per_cell=(32, 32), cells_per_block=(8, 8), block_norm='L2-Hys')\n",
    "    \n",
    "# Concatenate the handcrafted feature sets\n",
    "      X_image = [lbp_histograma, hg, r_histograma, g_histograma, b_histograma]    \n",
    "      X_image_aux = []\n",
    "      for aux in X_image:\n",
    "          X_image_aux = np.append(X_image_aux, np.ravel(aux))\n",
    "    \n",
    "      X_image = [i for i in X_image_aux]\n",
    "      y.append(classe)\n",
    "      X.append(X_image)\n",
    "      \n",
    "# Extract deep features using InceptionV3 pretrained model \n",
    "      img = cv2.resize(imagem,(299,299))\n",
    "      xd = image.img_to_array(img)\n",
    "      xd = np.expand_dims(xd, axis=0)\n",
    "      xd = preprocess_input(xd)\n",
    "      deep_features = model.predict(xd)\n",
    "      print(deep_features.shape)\n",
    "      \n",
    "      X_image_aux = []\n",
    "      for aux in deep_features:\n",
    "          X_image_aux = np.append(X_image_aux, np.ravel(aux))\n",
    "    \n",
    "      deep_features = [i for i in X_image_aux]\n",
    "      \n",
    "      X_deep.append(deep_features)\n",
    "\n",
    "            \n",
    "# Saving the extracted features (handcrafted) in a csv file\n",
    "df = pd.DataFrame(X)\n",
    "df.to_csv('X.csv', header=False, index=False)\n",
    "\n",
    "# Saving the extracted features (deep) in a csv file\n",
    "df = pd.DataFrame(X_deep)\n",
    "df.to_csv('X_deep.csv', header=False, index=False)\n",
    "\n",
    "# Saving the classes in a csv file\n",
    "df_class = pd.DataFrame(y)\n",
    "df_class.to_csv('y.csv', header=False, index=False)"
   ],
   "execution_count": null,
   "outputs": []
  },
  {
   "cell_type": "code",
   "metadata": {
    "id": "x-bfht2Sp04O",
    "colab_type": "code",
    "colab": {
     "base_uri": "https://localhost:8080/",
     "height": 35
    },
    "outputId": "ec2118e8-c0dc-4fe4-ecde-6f577765a698",
    "pycharm": {
     "is_executing": true
    }
   },
   "source": [
    "from google.colab import drive\n",
    "drive.mount('/content/drive')"
   ],
   "execution_count": null,
   "outputs": []
  },
  {
   "cell_type": "code",
   "metadata": {
    "id": "NTCobvD__X3k",
    "colab_type": "code",
    "outputId": "a0d7d696-a794-40b1-ad48-9807179dcf2b",
    "colab": {
     "base_uri": "https://localhost:8080/",
     "height": 128
    },
    "pycharm": {
     "is_executing": true
    }
   },
   "source": [
    "# mount google drive to access the image dataset\n",
    "\n",
    "from google.colab import drive\n",
    "drive.mount('/content/drive')"
   ],
   "execution_count": null,
   "outputs": []
  },
  {
   "cell_type": "code",
   "metadata": {
    "id": "KBXPtOFGX9Wd",
    "colab_type": "code",
    "outputId": "bb49a7d1-a098-42a1-aa79-dbafcf8cffe5",
    "colab": {
     "base_uri": "https://localhost:8080/",
     "height": 54
    },
    "pycharm": {
     "is_executing": true
    }
   },
   "source": [
    "# Example: how to load the csv files (features and labels)\n",
    "\n",
    "import pandas as pd\n",
    "import numpy as np\n",
    "\n",
    "# Labels\n",
    "y = pd.read_csv('y.csv', header=None)\n",
    "y=y.to_numpy()\n",
    "y=np.ravel(y)\n",
    "print(y.shape)\n",
    "\n",
    "# handcrafted features\n",
    "#X = pd.read_csv('X.csv', header=None)\n",
    "#X=X.to_numpy()\n",
    "#print(X.shape)\n",
    "\n",
    "# deep features\n",
    "X = pd.read_csv('X_deep.csv', header=None)\n",
    "X=X.to_numpy()\n",
    "print(X.shape)"
   ],
   "execution_count": null,
   "outputs": []
  },
  {
   "cell_type": "code",
   "metadata": {
    "colab_type": "code",
    "outputId": "d2c734b1-9713-4cef-be69-8ea83f46ea84",
    "id": "UMXe_o54hCU_",
    "colab": {
     "base_uri": "https://localhost:8080/",
     "height": 508
    },
    "pycharm": {
     "is_executing": true
    }
   },
   "source": [
    "# Este exemplo carrega a base Wine da UCI, treina um classificador Naive Bayes\n",
    "# usando holdout e outro usando validaÃ§Ã£o cruzada com 10 pastas. \n",
    "\n",
    "# Importa bibliotecas necessÃ¡rias \n",
    "import numpy as np\n",
    "import urllib\n",
    "from sklearn.naive_bayes import GaussianNB\n",
    "from sklearn import  model_selection\n",
    "from sklearn.metrics import confusion_matrix\n",
    "from sklearn.model_selection import train_test_split\n",
    "from sklearn.linear_model import LogisticRegression\n",
    "\n",
    "\n",
    "# EXEMPLO USANDO HOLDOUT\n",
    "# Holdout -> dividindo a base em treinamento (70%) e teste (30%), estratificada\n",
    "X_train, X_test, y_train, y_test = train_test_split(X,y,test_size=.3, random_state=42, stratify=y)\n",
    "\n",
    "# Treina o classificador\n",
    "clfa = GaussianNB()\n",
    "#clfa = LogisticRegression(C=1e5, solver='lbfgs', multi_class='multinomial')\n",
    "clfa = clfa.fit(X_train, y_train)\n",
    "\n",
    "# testa usando a base de testes\n",
    "predicted=clfa.predict(X_test)\n",
    "predp=clfa.predict_proba(X_test)\n",
    "\n",
    "# calcula a acurÃ¡cia na base de teste\n",
    "score=clfa.score(X_test, y_test)\n",
    "\n",
    "# calcula a matriz de confusÃ£o\n",
    "matrix = confusion_matrix(y_test, predicted)\n",
    "\n",
    "# apresenta os resultados\n",
    "print(\"Accuracy = %.2f \" % score)\n",
    "print(\"Confusion Matrix:\")\n",
    "print(matrix)\n",
    "\n",
    "# EXEMPLO USANDO VALIDAÃ‡ÃƒO CRUZADA\n",
    "\n",
    "#clfb = LogisticRegression(C=1e5, solver='lbfgs', multi_class='multinomial')\n",
    "clfb = GaussianNB()\n",
    "folds=10\n",
    "result = model_selection.cross_val_score(clfb, X, y, cv=folds)\n",
    "print(\"\\nCross Validation Results %d folds:\" % folds)\n",
    "print(\"Mean Accuracy: %.2f\" % result.mean())\n",
    "print(\"Mean Std: %.2f\" % result.std())\n",
    "\n",
    "# matriz de confusÃ£o da validaÃ§Ã£o cruzada\n",
    "Z = model_selection.cross_val_predict(clfb, X, y, cv=folds)\n",
    "cm=confusion_matrix(y, Z)\n",
    "print(\"Confusion Matrix:\")\n",
    "print(cm)"
   ],
   "execution_count": null,
   "outputs": []
  },
  {
   "cell_type": "code",
   "metadata": {
    "colab_type": "code",
    "id": "IpqxNRkRgkvj",
    "outputId": "e9340a2e-cbe1-4728-f9a4-f85d20da6a78",
    "colab": {
     "base_uri": "https://localhost:8080/",
     "height": 1000
    },
    "pycharm": {
     "is_executing": true
    }
   },
   "source": [
    "# Plot mistakes (images)\n",
    "print(predicted.shape)\n",
    "for i in range(len(predicted)):\n",
    "    if (predicted[i] != y_test[i]):\n",
    "        dist=1\n",
    "        j=0\n",
    "        while (j<len(X) and dist !=0): \n",
    "            dist = np.linalg.norm(X[j]-X_test[i])\n",
    "            j+=1\n",
    "        print(\"Label:\", y[j-1], class_names[y[j-1]], \"  /  Prediction: \", predicted[i], class_names[predicted[i]], predp[i][predicted[i]])\n",
    "        name= \"/content/drive/My Drive/Base/\" + str(class_names[y[j-1]]) + \"/\" + str(j)+ \".jpg\" \n",
    "        print(name)\n",
    "        im=cv2.imread(name)\n",
    "        cv2_imshow(im)\n",
    "        print(\"=============================================================================\")\n",
    "  \n"
   ],
   "execution_count": null,
   "outputs": []
  }
 ]
}